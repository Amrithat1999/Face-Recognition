{
  "nbformat": 4,
  "nbformat_minor": 0,
  "metadata": {
    "colab": {
      "name": "ds_data.ipynb",
      "provenance": [],
      "collapsed_sections": []
    },
    "kernelspec": {
      "name": "python3",
      "display_name": "Python 3"
    },
    "language_info": {
      "name": "python"
    },
    "accelerator": "GPU"
  },
  "cells": [
    {
      "cell_type": "code",
      "metadata": {
        "id": "IYdSYaFt9p4B"
      },
      "source": [
        "from glob import glob"
      ],
      "execution_count": null,
      "outputs": []
    },
    {
      "cell_type": "code",
      "metadata": {
        "colab": {
          "base_uri": "https://localhost:8080/"
        },
        "id": "iA7I7o7A-JcP",
        "outputId": "1c684aa5-905e-41d2-cd97-6227ab8866b0"
      },
      "source": [
        "path='/content/drive/MyDrive/ds_dataset/ds_data'\n",
        "image=glob(path+'/*')\n",
        "image"
      ],
      "execution_count": null,
      "outputs": [
        {
          "output_type": "execute_result",
          "data": {
            "text/plain": [
              "['/content/drive/MyDrive/ds_dataset/ds_data/amritha',\n",
              " '/content/drive/MyDrive/ds_dataset/ds_data/nihala',\n",
              " '/content/drive/MyDrive/ds_dataset/ds_data/aleena',\n",
              " '/content/drive/MyDrive/ds_dataset/ds_data/jincy',\n",
              " '/content/drive/MyDrive/ds_dataset/ds_data/roshni',\n",
              " '/content/drive/MyDrive/ds_dataset/ds_data/athulya']"
            ]
          },
          "metadata": {},
          "execution_count": 2
        }
      ]
    },
    {
      "cell_type": "code",
      "metadata": {
        "id": "_MrvTMlX-JX-"
      },
      "source": [
        "amritha_list=list(glob(path+'/amritha/*'))\n",
        "nihala_list=list(glob(path+'/nihala/*'))\n",
        "aleena_list=list(glob(path+'/aleena/*'))\n",
        "jincy_list=list(glob(path+'/jincy/*'))\n",
        "roshni_list=list(glob(path+'/roshni/*'))\n",
        "athulya_list=list(glob(path+'/athulya/*'))"
      ],
      "execution_count": null,
      "outputs": []
    },
    {
      "cell_type": "code",
      "metadata": {
        "colab": {
          "base_uri": "https://localhost:8080/"
        },
        "id": "N-6ZFJ88-JWT",
        "outputId": "89c4f49d-ad70-4a34-a422-5ca769a28c94"
      },
      "source": [
        "print(len(amritha_list))\n",
        "print(len(nihala_list))\n",
        "print(len(aleena_list))\n",
        "print(len(jincy_list))\n",
        "print(len(roshni_list))\n",
        "print(len(athulya_list))\n"
      ],
      "execution_count": null,
      "outputs": [
        {
          "output_type": "stream",
          "name": "stdout",
          "text": [
            "200\n",
            "200\n",
            "200\n",
            "200\n",
            "200\n",
            "200\n"
          ]
        }
      ]
    },
    {
      "cell_type": "code",
      "metadata": {
        "id": "tmNtmekFA9R-"
      },
      "source": [
        "input_map={'amritha':amritha_list,'nihala':nihala_list,'aleena':aleena_list,'jincy':jincy_list,'roshni':roshni_list,'athulya':athulya_list}\n",
        "output_map={'amritha':0,'nihala':1,'aleena':2,'jincy':3,'roshni':4,'athulya':5}"
      ],
      "execution_count": null,
      "outputs": []
    },
    {
      "cell_type": "code",
      "metadata": {
        "id": "ZjLso0JeEjCO"
      },
      "source": [
        "x=[]\n",
        "y=[]\n",
        "import cv2\n",
        "import numpy as np\n",
        "for img in input_map:\n",
        "  path_list=input_map[img]\n",
        "  #print(path_list)\n",
        "  for path in path_list:\n",
        "    img_array=cv2.imread(path)\n",
        "    #print(img_array)\n",
        "    img_array_resize=cv2.resize(img_array,(224,224))\n",
        "    img_array_resize=img_array_resize/255\n",
        "    img_array_resize=img_array_resize.reshape(224,224,3,1)\n",
        "    x.append(img_array_resize)\n",
        "    y.append(output_map[img])\n",
        "    x_=np.array(x)\n",
        "    y_=np.array(y)\n",
        "\n"
      ],
      "execution_count": null,
      "outputs": []
    },
    {
      "cell_type": "code",
      "metadata": {
        "id": "BkAFYWgTHCJP"
      },
      "source": [
        "from sklearn.model_selection import train_test_split\n",
        "xtrain,xtest,ytrain,ytest=train_test_split(x_,y_,test_size=0.2)"
      ],
      "execution_count": null,
      "outputs": []
    },
    {
      "cell_type": "code",
      "metadata": {
        "id": "SgmbL32qHCHf"
      },
      "source": [
        "from tensorflow.keras.layers import Flatten,Dense,Conv3D,MaxPool3D\n",
        "from tensorflow.keras.losses import SparseCategoricalCrossentropy\n",
        "from tensorflow.keras.optimizers import Adam\n",
        "from tensorflow.keras import Sequential\n"
      ],
      "execution_count": null,
      "outputs": []
    },
    {
      "cell_type": "code",
      "metadata": {
        "id": "wvXPmFJbHCDF"
      },
      "source": [
        "model=Sequential()\n",
        "model.add(Conv3D(filters=15,kernel_size=(2,2,3),input_shape=(224,224,3,1)))\n",
        "model.add(MaxPool3D(pool_size=(2,2,1)))\n",
        "model.add(Conv3D(filters=10,kernel_size=(2,2,1),activation='relu'))\n",
        "model.add(MaxPool3D(pool_size=(2,2,1)))\n",
        "\n",
        "model.add(Flatten())\n",
        "model.add(Dense(units=100,activation='relu'))\n",
        "model.add(Dense(units=6,activation='sigmoid'))\n",
        "\n"
      ],
      "execution_count": null,
      "outputs": []
    },
    {
      "cell_type": "code",
      "metadata": {
        "colab": {
          "base_uri": "https://localhost:8080/"
        },
        "id": "b3fP3ogvHCBa",
        "outputId": "d021bf3b-bffb-40bc-9983-da4dd79d5aed"
      },
      "source": [
        "model.summary()"
      ],
      "execution_count": null,
      "outputs": [
        {
          "output_type": "stream",
          "name": "stdout",
          "text": [
            "Model: \"sequential\"\n",
            "_________________________________________________________________\n",
            " Layer (type)                Output Shape              Param #   \n",
            "=================================================================\n",
            " conv3d (Conv3D)             (None, 223, 223, 1, 15)   195       \n",
            "                                                                 \n",
            " max_pooling3d (MaxPooling3D  (None, 111, 111, 1, 15)  0         \n",
            " )                                                               \n",
            "                                                                 \n",
            " conv3d_1 (Conv3D)           (None, 110, 110, 1, 10)   610       \n",
            "                                                                 \n",
            " max_pooling3d_1 (MaxPooling  (None, 55, 55, 1, 10)    0         \n",
            " 3D)                                                             \n",
            "                                                                 \n",
            " flatten (Flatten)           (None, 30250)             0         \n",
            "                                                                 \n",
            " dense (Dense)               (None, 100)               3025100   \n",
            "                                                                 \n",
            " dense_1 (Dense)             (None, 6)                 606       \n",
            "                                                                 \n",
            "=================================================================\n",
            "Total params: 3,026,511\n",
            "Trainable params: 3,026,511\n",
            "Non-trainable params: 0\n",
            "_________________________________________________________________\n"
          ]
        }
      ]
    },
    {
      "cell_type": "code",
      "metadata": {
        "id": "2__-WiqhHB9N"
      },
      "source": [
        "model.compile(loss=SparseCategoricalCrossentropy(),optimizer=Adam(),metrics=['accuracy'])"
      ],
      "execution_count": null,
      "outputs": []
    },
    {
      "cell_type": "code",
      "metadata": {
        "id": "rYOfU6N3HB7p",
        "colab": {
          "base_uri": "https://localhost:8080/"
        },
        "outputId": "3484f19d-4fd1-41c8-ee2b-29a8eb7b9752"
      },
      "source": [
        "h=model.fit(xtrain,ytrain,epochs=5,validation_data=(xtest,ytest))\n"
      ],
      "execution_count": null,
      "outputs": [
        {
          "output_type": "stream",
          "name": "stdout",
          "text": [
            "Epoch 1/5\n",
            "30/30 [==============================] - 13s 118ms/step - loss: 0.3365 - accuracy: 0.9094 - val_loss: 0.0015 - val_accuracy: 1.0000\n",
            "Epoch 2/5\n",
            "30/30 [==============================] - 3s 91ms/step - loss: 1.8547e-04 - accuracy: 1.0000 - val_loss: 1.0643e-04 - val_accuracy: 1.0000\n",
            "Epoch 3/5\n",
            "30/30 [==============================] - 3s 91ms/step - loss: 3.9231e-05 - accuracy: 1.0000 - val_loss: 4.6152e-05 - val_accuracy: 1.0000\n",
            "Epoch 4/5\n",
            "30/30 [==============================] - 3s 91ms/step - loss: 2.5996e-05 - accuracy: 1.0000 - val_loss: 3.2639e-05 - val_accuracy: 1.0000\n",
            "Epoch 5/5\n",
            "30/30 [==============================] - 3s 91ms/step - loss: 1.9893e-05 - accuracy: 1.0000 - val_loss: 2.6072e-05 - val_accuracy: 1.0000\n"
          ]
        }
      ]
    },
    {
      "cell_type": "code",
      "metadata": {
        "id": "l-Y-4d6OJ0iu",
        "colab": {
          "base_uri": "https://localhost:8080/",
          "height": 312
        },
        "outputId": "15d23f26-9a49-4327-95c3-850b58670632"
      },
      "source": [
        "import matplotlib.pyplot as plt\n",
        "train_acc=h.history['accuracy']\n",
        "val_acc=h.history['val_accuracy']\n",
        "epoch=h.epoch\n",
        "\n",
        "plt.plot(epoch,train_acc,label=['training accuracy'])\n",
        "plt.plot(epoch,val_acc,label=['validation accuracy'])\n",
        "plt.xlabel('epoch')\n",
        "plt.ylabel('accuracy')\n",
        "plt.title('accuracy learning curve')\n",
        "plt.legend()"
      ],
      "execution_count": null,
      "outputs": [
        {
          "output_type": "execute_result",
          "data": {
            "text/plain": [
              "<matplotlib.legend.Legend at 0x7f6960245310>"
            ]
          },
          "metadata": {},
          "execution_count": 15
        },
        {
          "output_type": "display_data",
          "data": {
            "image/png": "[encoded data removed]",
            "text/plain": [
              "<Figure size 432x288 with 1 Axes>"
            ]
          },
          "metadata": {
            "needs_background": "light"
          }
        }
      ]
    },
    {
      "cell_type": "code",
      "metadata": {
        "id": "fhSrOuZ2J0di",
        "colab": {
          "base_uri": "https://localhost:8080/",
          "height": 312
        },
        "outputId": "fec89596-a00a-4678-9da9-9558a1c4cb20"
      },
      "source": [
        "train_loss=h.history['loss']\n",
        "val_loss=h.history['val_loss']\n",
        "epoch=h.epoch\n",
        "\n",
        "plt.plot(epoch,train_loss,label=['training loss'])\n",
        "plt.plot(epoch,val_loss,label=['validation loss'])\n",
        "plt.xlabel('epoch')\n",
        "plt.ylabel('loss')\n",
        "plt.title('loss learning curve')\n",
        "plt.legend()"
      ],
      "execution_count": null,
      "outputs": [
        {
          "output_type": "execute_result",
          "data": {
            "text/plain": [
              "<matplotlib.legend.Legend at 0x7f6960213150>"
            ]
          },
          "metadata": {},
          "execution_count": 16
        },
        {
          "output_type": "display_data",
          "data": {
            "image/png": "[encoded data removed]",
            "text/plain": [
              "<Figure size 432x288 with 1 Axes>"
            ]
          },
          "metadata": {
            "needs_background": "light"
          }
        }
      ]
    },
    {
      "cell_type": "code",
      "metadata": {
        "id": "dxj0n1ISJ0YW"
      },
      "source": [
        ""
      ],
      "execution_count": null,
      "outputs": []
    },
    {
      "cell_type": "code",
      "metadata": {
        "id": "NJF4vJH1Mb5K"
      },
      "source": [
        "from PIL import Image"
      ],
      "execution_count": null,
      "outputs": []
    },
    {
      "cell_type": "code",
      "metadata": {
        "id": "mQG6saiLMb0U"
      },
      "source": [
        "Image.open('/content/drive/MyDrive/ds_dataset/ds_data/nihala/nillu1.jpg')"
      ],
      "execution_count": null,
      "outputs": []
    },
    {
      "cell_type": "code",
      "metadata": {
        "colab": {
          "base_uri": "https://localhost:8080/"
        },
        "id": "UVKm_-hwMbyv",
        "outputId": "a34116bc-406b-4af0-c57a-4463c1647acd"
      },
      "source": [
        "i_array=cv2.imread('/content/drive/MyDrive/ds_dataset/ds_data/nihala/nillu1.jpg')\n",
        "dataset=[]\n",
        "i_array=cv2.resize(i_array,(224,224))\n",
        "#i_array.shape\n",
        "np.max(i_array)\n",
        "i_array=i_array/255\n",
        "i_array=i_array.reshape(224,224,3,1)\n",
        "dataset.append(i_array)\n",
        "test=np.array(dataset)\n",
        "test.shape\n",
        "result=model.predict(test)\n",
        "np.argmax(result)\n"
      ],
      "execution_count": null,
      "outputs": [
        {
          "output_type": "execute_result",
          "data": {
            "text/plain": [
              "1"
            ]
          },
          "metadata": {},
          "execution_count": 19
        }
      ]
    },
    {
      "cell_type": "code",
      "metadata": {
        "id": "f6S5p4Zvoki2"
      },
      "source": [
        "from tensorflow.keras.models import load_model"
      ],
      "execution_count": null,
      "outputs": []
    },
    {
      "cell_type": "code",
      "metadata": {
        "id": "8T7SUlkefe9z"
      },
      "source": [
        "model.save('face_ds_data.h5')"
      ],
      "execution_count": null,
      "outputs": []
    },
    {
      "cell_type": "code",
      "source": [
        ""
      ],
      "metadata": {
        "id": "bmuoQxkuhJ37"
      },
      "execution_count": null,
      "outputs": []
    },
    {
      "cell_type": "code",
      "source": [
        ""
      ],
      "metadata": {
        "id": "n3votebQhJ2a"
      },
      "execution_count": null,
      "outputs": []
    }
  ]
}